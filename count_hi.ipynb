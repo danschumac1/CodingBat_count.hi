{
 "cells": [
  {
   "cell_type": "markdown",
   "id": "82c37698",
   "metadata": {},
   "source": [
    "# String-2 > count_hi"
   ]
  },
  {
   "cell_type": "markdown",
   "id": "18ebe0c8",
   "metadata": {},
   "source": [
    "Return the number of times that the string \"hi\" appears anywhere in the given string.\n",
    "\n",
    "\n",
    "count_hi('abc hi ho') → 1\n",
    "\n",
    "count_hi('ABChi hi') → 2\n",
    "\n",
    "count_hi('hihi') → 2"
   ]
  },
  {
   "cell_type": "code",
   "execution_count": null,
   "id": "a596f7d6",
   "metadata": {},
   "outputs": [],
   "source": [
    "def count_hi(str):\n",
    "  count = 0\n",
    "  il=0\n",
    "  while il<=len(str)-1:\n",
    "    if str[il:il+2] == 'hi':\n",
    "      count+=1\n",
    "    il+=1\n",
    "  return count"
   ]
  }
 ],
 "metadata": {
  "kernelspec": {
   "display_name": "Python 3 (ipykernel)",
   "language": "python",
   "name": "python3"
  },
  "language_info": {
   "codemirror_mode": {
    "name": "ipython",
    "version": 3
   },
   "file_extension": ".py",
   "mimetype": "text/x-python",
   "name": "python",
   "nbconvert_exporter": "python",
   "pygments_lexer": "ipython3",
   "version": "3.9.12"
  }
 },
 "nbformat": 4,
 "nbformat_minor": 5
}
